{
 "cells": [
  {
   "cell_type": "code",
   "execution_count": 1,
   "id": "plastic-characteristic",
   "metadata": {},
   "outputs": [],
   "source": [
    "import numpy as np\n",
    "import pandas as pd\n",
    "from numpy.random import normal, multivariate_normal\n",
    "\n",
    "import itertools\n",
    "\n",
    "from scipy import linalg\n",
    "import matplotlib.pyplot as plt\n",
    "import matplotlib as mpl\n",
    "\n",
    "from sklearn import mixture"
   ]
  },
  {
   "cell_type": "code",
   "execution_count": 2,
   "id": "favorite-fault",
   "metadata": {},
   "outputs": [],
   "source": [
    "DATA_DIRECTORY = \"C:\\\\Users\\\\WDAmo\\\\GitHub\\\\font_analysis\\\\data\"\n",
    "PARAM_LABELS = [\"unit\", \"pen\", \"cap\", \"bar\", \"asc\", \"desc\", \"xht\", \"horz\",\n",
    "                \"vert\", \"cont\", \"supr\", \"slnt\", \"aprt\", \"crnr\", \"over\", \"tapr\"]"
   ]
  },
  {
   "cell_type": "code",
   "execution_count": 9,
   "id": "appointed-shooting",
   "metadata": {},
   "outputs": [],
   "source": [
    "def extract_data(lin, chain):\n",
    "    raw_file = pd.read_csv(DATA_DIRECTORY + \"\\\\\" + str(lin) + \"\\\\\" + str(chain) + \".csv\")[\"chosen.values\"]\n",
    "    df = pd.DataFrame([x[1:-1].split(',') for x in raw_file])\n",
    "    return df\n",
    "def extract_all():\n",
    "    out = []\n",
    "    for i in range(4): ##For each lineage,\n",
    "        lin = []\n",
    "        for j in range(4): ##And each chain inside that lineage\n",
    "            lin.append(extract_data(i,j))\n",
    "        out.append(lin)\n",
    "    return out;\n",
    "def split_df(df):\n",
    "    if len(df) % 2 != 0:  # Handling `df` with `odd` number of rows\n",
    "        df = df.iloc[:-1, :]\n",
    "    df1, df2 =  np.array_split(df, 2)\n",
    "    return df1, df2\n",
    "def split_all(dfs): # Returns the second half of each dataframe, cast correctly\n",
    "    out = []\n",
    "    for i in range(4): ##For each lineage,\n",
    "        lin = []\n",
    "        for j in range(4): ##And each chain inside that lineage\n",
    "            upper, lower = split_df(dfs[i][j])\n",
    "            lin.append(lower.astype('float64').to_numpy())\n",
    "        out.append(lin)\n",
    "    return out;\n",
    "def combine_all(chains):\n",
    "    full_chain = np.empty((0,16), 'float64')\n",
    "    for i in range(4):\n",
    "        for j in range(4):\n",
    "            full_chain = np.concatenate((full_chain, chains[i][j]))\n",
    "    return full_chain\n",
    "def combine_by_font(chains):\n",
    "    arial = np.empty((0,16), 'float64')\n",
    "    georgia = np.empty((0,16), 'float64')\n",
    "    for i in range(4):\n",
    "        if(i%2==1):\n",
    "            for j in range(4):\n",
    "                arial = np.concatenate((arial, chains[i][j]))\n",
    "        else:            \n",
    "            for j in range(4):\n",
    "                georgia = np.concatenate((georgia, chains[i][j]))\n",
    "    return arial, georgia\n",
    "def add_noise(dfs, sigma):\n",
    "    out = []\n",
    "    noise = np.random.normal(0, sigma, dfs.shape)  \n",
    "    return (dfs + noise)"
   ]
  },
  {
   "cell_type": "code",
   "execution_count": 10,
   "id": "important-server",
   "metadata": {
    "scrolled": true
   },
   "outputs": [],
   "source": [
    "raw_data = split_all(extract_all())\n",
    "dataset = add_noise(combine_all(raw_data),1)"
   ]
  },
  {
   "cell_type": "code",
   "execution_count": 11,
   "id": "atmospheric-floating",
   "metadata": {},
   "outputs": [
    {
     "data": {
      "text/plain": [
       "(34910, 16)"
      ]
     },
     "execution_count": 11,
     "metadata": {},
     "output_type": "execute_result"
    }
   ],
   "source": [
    "dataset.shape"
   ]
  },
  {
   "cell_type": "code",
   "execution_count": null,
   "id": "latin-bachelor",
   "metadata": {},
   "outputs": [],
   "source": [
    "# Checking average length of each split lineage\n",
    "for i in range(4):\n",
    "    sum = 0\n",
    "    for j in range(4):\n",
    "        l, p = dfs_split[i][j].shape\n",
    "        sum+= l\n",
    "    print(str(sum/4))\n",
    "            "
   ]
  },
  {
   "cell_type": "code",
   "execution_count": null,
   "id": "consistent-halloween",
   "metadata": {},
   "outputs": [],
   "source": [
    "\n",
    "def add_noise_split(dfs, sigma):\n",
    "    out = []\n",
    "    for i in range(4):\n",
    "        lin = []\n",
    "        for j in range(4):\n",
    "            lin.append(add_noise(dfs[i][j], sigma))\n",
    "        out.append(lin)\n",
    "    return out\n",
    "            \n",
    "noisy_1 = add_noise(dataset, 1)\n",
    "noisy_10 = add_noise(dataset, 10)\n",
    "noisy_5 = add_noise(dataset, 5)\n",
    "noisy_1_split = add_noise_split(raw_data, 1)\n",
    "noisy_5_split = add_noise_split(raw_data, 5)\n",
    "noisy_10_split = add_noise_split(raw_data, 10)\n"
   ]
  },
  {
   "cell_type": "code",
   "execution_count": null,
   "id": "identical-vatican",
   "metadata": {},
   "outputs": [],
   "source": [
    "X = noisy_1\n",
    "n_components_range = np.arange(1,21)\n",
    "for n_components in n_components_range:\n",
    "    # Fit a Gaussian mixture with EM\n",
    "    gmm = mixture.GaussianMixture(n_components=n_components,\n",
    "                                  covariance_type='full')\n",
    "    gmm.fit(X)\n",
    "    print(str(n_components) + \": \"+ str(gmm.bic(X)))\n",
    "\n",
    "# for i in range(4):\n",
    "#     for j in range(4):\n",
    "#         lowest_bic = np.infty\n",
    "#         for n_components in n_components_range:\n",
    "#             # Fit a Gaussian mixture with EM\n",
    "#             gmm = mixture.GaussianMixture(n_components=n_components,\n",
    "#                                           covariance_type='full').fit(X[i][j])\n",
    "#             if gmm.bic(X[i][j]) < lowest_bic:\n",
    "#                 lowest_bic = gmm.bic(X[i][j])\n",
    "#                 best_gmm = n_components\n",
    "#         print(best_gmm)"
   ]
  },
  {
   "cell_type": "code",
   "execution_count": null,
   "id": "italic-impact",
   "metadata": {},
   "outputs": [],
   "source": [
    "raw_data[0][0]"
   ]
  },
  {
   "cell_type": "code",
   "execution_count": 12,
   "id": "defined-philippines",
   "metadata": {
    "scrolled": true
   },
   "outputs": [
    {
     "data": {
      "text/html": [
       "<div>\n",
       "<style scoped>\n",
       "    .dataframe tbody tr th:only-of-type {\n",
       "        vertical-align: middle;\n",
       "    }\n",
       "\n",
       "    .dataframe tbody tr th {\n",
       "        vertical-align: top;\n",
       "    }\n",
       "\n",
       "    .dataframe thead th {\n",
       "        text-align: right;\n",
       "    }\n",
       "</style>\n",
       "<table border=\"1\" class=\"dataframe\">\n",
       "  <thead>\n",
       "    <tr style=\"text-align: right;\">\n",
       "      <th></th>\n",
       "      <th>weight</th>\n",
       "      <th>mean</th>\n",
       "    </tr>\n",
       "  </thead>\n",
       "  <tbody>\n",
       "    <tr>\n",
       "      <th>6</th>\n",
       "      <td>0.224206</td>\n",
       "      <td>[51.60090903084503, 47.82057699258017, 46.7859...</td>\n",
       "    </tr>\n",
       "    <tr>\n",
       "      <th>8</th>\n",
       "      <td>0.140558</td>\n",
       "      <td>[58.376097848856475, 59.388183427758484, 46.38...</td>\n",
       "    </tr>\n",
       "    <tr>\n",
       "      <th>2</th>\n",
       "      <td>0.094838</td>\n",
       "      <td>[37.779083449980035, 64.58117388787537, 51.592...</td>\n",
       "    </tr>\n",
       "    <tr>\n",
       "      <th>0</th>\n",
       "      <td>0.088322</td>\n",
       "      <td>[63.60463301835412, 68.05361418352214, 72.0545...</td>\n",
       "    </tr>\n",
       "    <tr>\n",
       "      <th>7</th>\n",
       "      <td>0.070504</td>\n",
       "      <td>[38.4597469624781, 74.29374473110146, 75.07627...</td>\n",
       "    </tr>\n",
       "    <tr>\n",
       "      <th>5</th>\n",
       "      <td>0.063339</td>\n",
       "      <td>[31.218423189717008, 48.50138624225242, 28.625...</td>\n",
       "    </tr>\n",
       "    <tr>\n",
       "      <th>1</th>\n",
       "      <td>0.060382</td>\n",
       "      <td>[21.44684307902486, 26.89743848337879, 33.7275...</td>\n",
       "    </tr>\n",
       "    <tr>\n",
       "      <th>4</th>\n",
       "      <td>0.059706</td>\n",
       "      <td>[35.71172876698902, 70.11041987588781, 43.6865...</td>\n",
       "    </tr>\n",
       "    <tr>\n",
       "      <th>11</th>\n",
       "      <td>0.056122</td>\n",
       "      <td>[35.77849602281612, 66.80588057631441, 37.6581...</td>\n",
       "    </tr>\n",
       "    <tr>\n",
       "      <th>10</th>\n",
       "      <td>0.052945</td>\n",
       "      <td>[53.539445308021534, 66.43943242045486, 61.394...</td>\n",
       "    </tr>\n",
       "    <tr>\n",
       "      <th>3</th>\n",
       "      <td>0.049327</td>\n",
       "      <td>[72.87342045308657, 88.4757584214209, 43.92978...</td>\n",
       "    </tr>\n",
       "    <tr>\n",
       "      <th>9</th>\n",
       "      <td>0.039750</td>\n",
       "      <td>[13.453020736207908, 53.52978888984203, 28.546...</td>\n",
       "    </tr>\n",
       "  </tbody>\n",
       "</table>\n",
       "</div>"
      ],
      "text/plain": [
       "      weight                                               mean\n",
       "6   0.224206  [51.60090903084503, 47.82057699258017, 46.7859...\n",
       "8   0.140558  [58.376097848856475, 59.388183427758484, 46.38...\n",
       "2   0.094838  [37.779083449980035, 64.58117388787537, 51.592...\n",
       "0   0.088322  [63.60463301835412, 68.05361418352214, 72.0545...\n",
       "7   0.070504  [38.4597469624781, 74.29374473110146, 75.07627...\n",
       "5   0.063339  [31.218423189717008, 48.50138624225242, 28.625...\n",
       "1   0.060382  [21.44684307902486, 26.89743848337879, 33.7275...\n",
       "4   0.059706  [35.71172876698902, 70.11041987588781, 43.6865...\n",
       "11  0.056122  [35.77849602281612, 66.80588057631441, 37.6581...\n",
       "10  0.052945  [53.539445308021534, 66.43943242045486, 61.394...\n",
       "3   0.049327  [72.87342045308657, 88.4757584214209, 43.92978...\n",
       "9   0.039750  [13.453020736207908, 53.52978888984203, 28.546..."
      ]
     },
     "execution_count": 12,
     "metadata": {},
     "output_type": "execute_result"
    }
   ],
   "source": [
    "#Running the GMM on each chain\n",
    "results = []\n",
    "n_comps = 12\n",
    "gmm = mixture.GaussianMixture(n_components=n_comps,\n",
    "                              covariance_type='full', max_iter=5000, n_init=5)\n",
    "gmm.fit(dataset)\n",
    "weights = gmm.weights_\n",
    "means = gmm.means_\n",
    "chainframe = pd.DataFrame({'weight': weights, 'mean': list(means)}, columns=['weight', 'mean']).sort_values('weight', ascending=False)\n",
    "\n",
    "chainframe\n",
    "            \n",
    "            "
   ]
  },
  {
   "cell_type": "code",
   "execution_count": 14,
   "id": "simplified-glance",
   "metadata": {},
   "outputs": [],
   "source": [
    "chainframe = chainframe.to_numpy()"
   ]
  },
  {
   "cell_type": "code",
   "execution_count": 16,
   "id": "precise-victor",
   "metadata": {},
   "outputs": [
    {
     "data": {
      "text/plain": [
       "[array([52., 48., 47., 55., 53., 50., 59., 45., 51., 63., 42., 55., 41.,\n",
       "        55., 51., 49.]),\n",
       " array([58., 59., 46., 48., 54., 58., 48., 50., 28., 24., 45., 50., 41.,\n",
       "        42., 37., 63.]),\n",
       " array([38., 65., 52., 28., 51., 66., 56., 47., 65., 31., 34., 44., 57.,\n",
       "        32., 51., 31.]),\n",
       " array([64., 68., 72., 60., 59., 39., 47., 74., 61., 31., 59., 72., 72.,\n",
       "        35., 61., 35.]),\n",
       " array([38., 74., 75., 36., 46., 43., 31., 18., 63., 32., 33., 46., 29.,\n",
       "        50., 52., 37.]),\n",
       " array([31., 49., 29., 32., 50., 63., 64., 64., 60., 48., 63., 53., 76.,\n",
       "        77., 40., 50.])]"
      ]
     },
     "execution_count": 16,
     "metadata": {},
     "output_type": "execute_result"
    }
   ],
   "source": [
    "top_6= chainframe[:6,1]\n",
    "rounded_6 = []\n",
    "for i in top_6:\n",
    "    rounded_6.append(np.round(i))\n",
    "rounded_6"
   ]
  },
  {
   "cell_type": "code",
   "execution_count": null,
   "id": "nutritional-sally",
   "metadata": {},
   "outputs": [],
   "source": []
  },
  {
   "cell_type": "code",
   "execution_count": 18,
   "id": "guilty-triumph",
   "metadata": {},
   "outputs": [
    {
     "data": {
      "text/plain": [
       "[52.0,\n",
       " 48.0,\n",
       " 47.0,\n",
       " 55.0,\n",
       " 53.0,\n",
       " 50.0,\n",
       " 59.0,\n",
       " 45.0,\n",
       " 51.0,\n",
       " 63.0,\n",
       " 42.0,\n",
       " 55.0,\n",
       " 41.0,\n",
       " 55.0,\n",
       " 51.0,\n",
       " 49.0]"
      ]
     },
     "execution_count": 18,
     "metadata": {},
     "output_type": "execute_result"
    }
   ],
   "source": [
    "list(rounded_6[0])"
   ]
  },
  {
   "cell_type": "code",
   "execution_count": 21,
   "id": "dramatic-marks",
   "metadata": {},
   "outputs": [
    {
     "data": {
      "text/plain": [
       "'localhost:1999/test/52-48-47-55-53-50-59-45-51-63-42-55-41-55-51-49/'"
      ]
     },
     "execution_count": 21,
     "metadata": {},
     "output_type": "execute_result"
    }
   ],
   "source": [
    "def load_font(arr, filename):#List of values -> URL\n",
    "    rounded = np.around(arr)\n",
    "    out = \"localhost:1999/font/\"+filename+\"/\"\n",
    "    for i in arr:\n",
    "        out+= str(i)[:2] + \"-\"\n",
    "    return out[:-1]+\"/\"\n",
    "load_font(rounded_6[0], \"test\")"
   ]
  },
  {
   "cell_type": "code",
   "execution_count": null,
   "id": "07ab0af3",
   "metadata": {},
   "outputs": [],
   "source": []
  }
 ],
 "metadata": {
  "kernelspec": {
   "display_name": "Python 3",
   "language": "python",
   "name": "python3"
  },
  "language_info": {
   "codemirror_mode": {
    "name": "ipython",
    "version": 3
   },
   "file_extension": ".py",
   "mimetype": "text/x-python",
   "name": "python",
   "nbconvert_exporter": "python",
   "pygments_lexer": "ipython3",
   "version": "3.8.6"
  }
 },
 "nbformat": 4,
 "nbformat_minor": 5
}
