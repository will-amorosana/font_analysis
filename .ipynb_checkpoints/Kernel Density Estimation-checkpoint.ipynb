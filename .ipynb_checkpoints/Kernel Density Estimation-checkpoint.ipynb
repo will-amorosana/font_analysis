{
 "cells": [
  {
   "cell_type": "code",
   "execution_count": 1,
   "id": "bored-connecticut",
   "metadata": {},
   "outputs": [],
   "source": [
    "import numpy as np\n",
    "import pandas as pd\n",
    "from numpy.random import normal, multivariate_normal\n",
    "\n",
    "import itertools\n",
    "\n",
    "from scipy import linalg\n",
    "import matplotlib.pyplot as plt\n",
    "import matplotlib as mpl\n",
    "\n",
    "from sklearn import mixture\n",
    "from sklearn.neighbors import KernelDensity"
   ]
  },
  {
   "cell_type": "code",
   "execution_count": 2,
   "id": "cheap-force",
   "metadata": {},
   "outputs": [],
   "source": [
    "DATA_DIRECTORY = \"C:\\\\Users\\\\WDAmo\\\\GitHub\\\\font_analysis\\\\data\"\n",
    "PARAM_LABELS = [\"unit\", \"pen\", \"cap\", \"bar\", \"asc\", \"desc\", \"xht\", \"horz\",\n",
    "                \"vert\", \"cont\", \"supr\", \"slnt\", \"aprt\", \"crnr\", \"over\", \"tapr\"]"
   ]
  },
  {
   "cell_type": "code",
   "execution_count": 3,
   "id": "numeric-durham",
   "metadata": {},
   "outputs": [],
   "source": [
    "def extract_data(lin, chain):\n",
    "    raw_file = pd.read_csv(DATA_DIRECTORY + \"\\\\\" + str(lin) + \"\\\\\" + str(chain) + \".csv\")[\"chosen.values\"]\n",
    "    df = pd.DataFrame([x[1:-1].split(',') for x in raw_file])\n",
    "    return df\n",
    "def extract_all():\n",
    "    out = []\n",
    "    for i in range(4): ##For each lineage,\n",
    "        lin = []\n",
    "        for j in range(4): ##And each chain inside that lineage\n",
    "            lin.append(extract_data(i,j))\n",
    "        out.append(lin)\n",
    "    return out;\n",
    "def split_df(df):\n",
    "    if len(df) % 2 != 0:  # Handling `df` with `odd` number of rows\n",
    "        df = df.iloc[:-1, :]\n",
    "    df1, df2 =  np.array_split(df, 2)\n",
    "    return df1, df2\n",
    "def split_all(dfs): # Returns the second half of each dataframe, cast correctly\n",
    "    out = []\n",
    "    for i in range(4): ##For each lineage,\n",
    "        lin = []\n",
    "        for j in range(4): ##And each chain inside that lineage\n",
    "            upper, lower = split_df(dfs[i][j])\n",
    "            lin.append(lower.astype('float64').to_numpy())\n",
    "        out.append(lin)\n",
    "    return out;\n",
    "def combine_all(chains):\n",
    "    full_chain = np.empty((0,16), 'float64')\n",
    "    for i in range(4):\n",
    "        print(full_chain.shape)\n",
    "        for j in range(4):\n",
    "            full_chain = np.concatenate((full_chain, chains[i][j]))\n",
    "    return full_chain\n",
    "def combine_by_font(chains):\n",
    "    arial = np.empty((0,16), 'float64')\n",
    "    georgia = np.empty((0,16), 'float64')\n",
    "    for i in range(4):\n",
    "        if(i%2==1):\n",
    "            for j in range(4):\n",
    "                arial = np.concatenate((arial, chains[i][j]))\n",
    "        else:            \n",
    "            for j in range(4):\n",
    "                georgia = np.concatenate((georgia, chains[i][j]))\n",
    "    return arial, georgia"
   ]
  },
  {
   "cell_type": "code",
   "execution_count": 4,
   "id": "charming-prototype",
   "metadata": {
    "scrolled": true
   },
   "outputs": [
    {
     "name": "stdout",
     "output_type": "stream",
     "text": [
      "(0, 16)\n",
      "(4904, 16)\n",
      "(13273, 16)\n",
      "(27572, 16)\n"
     ]
    }
   ],
   "source": [
    "raw_data = split_all(extract_all())\n",
    "dataset = add_noise(combine_all(raw_data),1)\n",
    "arial, georgia = combine_by_font(raw_data)"
   ]
  },
  {
   "cell_type": "code",
   "execution_count": 19,
   "id": "forward-batch",
   "metadata": {},
   "outputs": [
    {
     "ename": "TypeError",
     "evalue": "score() missing 1 required positional argument: 'X'",
     "output_type": "error",
     "traceback": [
      "\u001b[1;31m---------------------------------------------------------------------------\u001b[0m",
      "\u001b[1;31mTypeError\u001b[0m                                 Traceback (most recent call last)",
      "\u001b[1;32m<ipython-input-19-5d689c390f40>\u001b[0m in \u001b[0;36m<module>\u001b[1;34m\u001b[0m\n\u001b[0;32m      1\u001b[0m \u001b[0mX\u001b[0m \u001b[1;33m=\u001b[0m \u001b[0mdataset\u001b[0m\u001b[1;33m\u001b[0m\u001b[1;33m\u001b[0m\u001b[0m\n\u001b[0;32m      2\u001b[0m \u001b[0mkdens\u001b[0m \u001b[1;33m=\u001b[0m \u001b[0mKernelDensity\u001b[0m\u001b[1;33m(\u001b[0m\u001b[0mkernel\u001b[0m\u001b[1;33m=\u001b[0m\u001b[1;34m'gaussian'\u001b[0m\u001b[1;33m,\u001b[0m \u001b[0mbandwidth\u001b[0m\u001b[1;33m=\u001b[0m\u001b[1;36m0.2\u001b[0m\u001b[1;33m)\u001b[0m\u001b[1;33m.\u001b[0m\u001b[0mfit\u001b[0m\u001b[1;33m(\u001b[0m\u001b[0mX\u001b[0m\u001b[1;33m)\u001b[0m\u001b[1;33m\u001b[0m\u001b[1;33m\u001b[0m\u001b[0m\n\u001b[1;32m----> 3\u001b[1;33m \u001b[0mprint\u001b[0m\u001b[1;33m(\u001b[0m\u001b[0mkdens\u001b[0m\u001b[1;33m.\u001b[0m\u001b[0mscore\u001b[0m\u001b[1;33m(\u001b[0m\u001b[1;33m)\u001b[0m\u001b[1;33m)\u001b[0m\u001b[1;33m\u001b[0m\u001b[1;33m\u001b[0m\u001b[0m\n\u001b[0m",
      "\u001b[1;31mTypeError\u001b[0m: score() missing 1 required positional argument: 'X'"
     ]
    }
   ],
   "source": [
    "X = dataset\n",
    "kdens = KernelDensity(kernel='gaussian', bandwidth=0.2).fit(X)\n",
    "print(kdens.score())"
   ]
  },
  {
   "cell_type": "code",
   "execution_count": null,
   "id": "political-valley",
   "metadata": {},
   "outputs": [],
   "source": [
    "#?????"
   ]
  }
 ],
 "metadata": {
  "kernelspec": {
   "display_name": "Python 3",
   "language": "python",
   "name": "python3"
  },
  "language_info": {
   "codemirror_mode": {
    "name": "ipython",
    "version": 3
   },
   "file_extension": ".py",
   "mimetype": "text/x-python",
   "name": "python",
   "nbconvert_exporter": "python",
   "pygments_lexer": "ipython3",
   "version": "3.8.6"
  }
 },
 "nbformat": 4,
 "nbformat_minor": 5
}
