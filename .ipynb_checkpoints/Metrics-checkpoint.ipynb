{
 "cells": [
  {
   "cell_type": "code",
   "execution_count": 27,
   "id": "d1b0aabc",
   "metadata": {},
   "outputs": [],
   "source": [
    "#Initialize, import, and format\n",
    "import numpy as np\n",
    "import pandas as pd\n",
    "from numpy.random import normal, multivariate_normal\n",
    "\n",
    "import itertools\n",
    "\n",
    "from scipy import linalg\n",
    "import matplotlib.pyplot as plt\n",
    "import matplotlib as mpl\n",
    "\n",
    "from sklearn.decomposition import PCA\n",
    "from scipy import stats\n",
    "\n",
    "\n",
    "DATA_DIRECTORY = \"C:\\\\Users\\\\WDAmo\\\\GitHub\\\\font_analysis\\\\metrics.csv\"\n",
    "PARAM_LABELS = [\"unit\", \"pen\", \"cap\", \"bar\", \"asc\", \"desc\", \"xht\", \"horz\",\n",
    "                \"vert\", \"cont\", \"supr\", \"slnt\", \"aprt\", \"crnr\", \"over\", \"tapr\"]\n",
    "PARAM_NAMES = [\"Unit Width\", \"Pen Width\", \"Cap Height\", \"Bar Height\", \"Ascender Height\", \"Descender Height\", \"X-Height\",\n",
    "              \"Horizontal Increase\", \"Vertical Increase\", \"Contrast\", \"Superness\", \"Slanting\", \"Aperture\", \"Corner\",\n",
    "              \"Overshoot\", \"Taper\"]\n",
    "\n",
    "def extract_data():\n",
    "    df = pd.read_csv(DATA_DIRECTORY)\n",
    "    return df.drop(columns=['Timestamp'])\n",
    "dataset = extract_data()"
   ]
  },
  {
   "cell_type": "code",
   "execution_count": 28,
   "id": "461209f8",
   "metadata": {},
   "outputs": [],
   "source": [
    "dataset = dataset.to_numpy()\n",
    "dataset = np.delete(dataset, 0,0)"
   ]
  },
  {
   "cell_type": "code",
   "execution_count": 31,
   "id": "5c094364",
   "metadata": {},
   "outputs": [
    {
     "data": {
      "text/plain": [
       "array([7.81818182, 2.95454545, 8.27272727, 7.59090909, 8.81818182,\n",
       "       2.90909091, 4.45454545, 8.27272727, 4.63636364, 6.        ])"
      ]
     },
     "execution_count": 31,
     "metadata": {},
     "output_type": "execute_result"
    }
   ],
   "source": [
    "means = np.mean(dataset, 0)\n",
    "means"
   ]
  },
  {
   "cell_type": "code",
   "execution_count": 33,
   "id": "635924ff",
   "metadata": {},
   "outputs": [
    {
     "data": {
      "text/plain": [
       "array([1.72248139, 1.29605249, 1.45170177, 1.58570578, 1.07180237,\n",
       "       1.80678245, 1.80220251, 1.51302882, 1.33298894, 1.80906807])"
      ]
     },
     "execution_count": 33,
     "metadata": {},
     "output_type": "execute_result"
    }
   ],
   "source": [
    "stds = np.std(dataset, 0)\n",
    "stds"
   ]
  },
  {
   "cell_type": "code",
   "execution_count": 45,
   "id": "5e064314",
   "metadata": {},
   "outputs": [],
   "source": [
    "idx = [0, 4, 7, 2, 9, 5, 1, 3, 6, 8]\n",
    "labels2 = labels[idx]\n",
    "means2 = means[idx]\n",
    "stds2 = stds[idx]"
   ]
  },
  {
   "cell_type": "code",
   "execution_count": 49,
   "id": "5385f7f9",
   "metadata": {},
   "outputs": [
    {
     "ename": "NameError",
     "evalue": "name 'Line2D' is not defined",
     "output_type": "error",
     "traceback": [
      "\u001b[1;31m---------------------------------------------------------------------------\u001b[0m",
      "\u001b[1;31mNameError\u001b[0m                                 Traceback (most recent call last)",
      "\u001b[1;32m<ipython-input-49-bdf582e9cab4>\u001b[0m in \u001b[0;36m<module>\u001b[1;34m\u001b[0m\n\u001b[0;32m      6\u001b[0m \u001b[0mplt\u001b[0m\u001b[1;33m.\u001b[0m\u001b[0mxticks\u001b[0m\u001b[1;33m(\u001b[0m\u001b[0mrotation\u001b[0m \u001b[1;33m=\u001b[0m \u001b[1;36m90\u001b[0m\u001b[1;33m)\u001b[0m\u001b[1;33m\u001b[0m\u001b[1;33m\u001b[0m\u001b[0m\n\u001b[0;32m      7\u001b[0m \u001b[1;33m\u001b[0m\u001b[0m\n\u001b[1;32m----> 8\u001b[1;33m custom_lines = [Line2D([0], [0], color='green', lw=4),\n\u001b[0m\u001b[0;32m      9\u001b[0m                 \u001b[0mLine2D\u001b[0m\u001b[1;33m(\u001b[0m\u001b[1;33m[\u001b[0m\u001b[1;36m0\u001b[0m\u001b[1;33m]\u001b[0m\u001b[1;33m,\u001b[0m \u001b[1;33m[\u001b[0m\u001b[1;36m0\u001b[0m\u001b[1;33m]\u001b[0m\u001b[1;33m,\u001b[0m \u001b[0mcolor\u001b[0m\u001b[1;33m=\u001b[0m\u001b[1;34m'red'\u001b[0m\u001b[1;33m,\u001b[0m \u001b[0mlw\u001b[0m\u001b[1;33m=\u001b[0m\u001b[1;36m4\u001b[0m\u001b[1;33m)\u001b[0m\u001b[1;33m,\u001b[0m\u001b[1;33m\u001b[0m\u001b[1;33m\u001b[0m\u001b[0m\n\u001b[0;32m     10\u001b[0m                 Line2D([0], [0], color='darkorange', lw=4)]\n",
      "\u001b[1;31mNameError\u001b[0m: name 'Line2D' is not defined"
     ]
    },
    {
     "data": {
      "image/png": "[encoded data removed]",
      "text/plain": [
       "<Figure size 432x288 with 1 Axes>"
      ]
     },
     "metadata": {
      "needs_background": "light"
     },
     "output_type": "display_data"
    }
   ],
   "source": [
    "labels = np.array([\"Georgia\", \"Impact\", \"Arial\", \"Bespoke\", \"Avenir\", \"Papyrus\", \"Bespoke Major\", \"Calibri\", \"Bespoke Minor\", \"Courier New\"])\n",
    "fig, ax = plt.subplots()\n",
    "from matplotlib.lines import Line2D\n",
    "\n",
    "\n",
    "ax.bar(labels2, means2, yerr=stds2, color=['green','green','green','green', 'red', 'red', 'red',  \n",
    "                              'darkorange', 'darkorange', 'darkorange'])\n",
    "plt.xticks(rotation = 90)\n",
    "\n",
    "custom_lines = [Line2D([0], [0], color='green', lw=4),\n",
    "                Line2D([0], [0], color='red', lw=4),\n",
    "                Line2D([0], [0], color='darkorange', lw=4)]\n",
    "ax.legend(custom_lines, ['Unprofessional', 'Unprofessional', 'Bespoke Family'])\n",
    "\n",
    "ax.set_ylabel('Readability')\n",
    "ax.set_title('Readability of Resume by Font')\n",
    "\n",
    "\n",
    "plt.show()"
   ]
  },
  {
   "cell_type": "code",
   "execution_count": 42,
   "id": "d6f9b5b3",
   "metadata": {},
   "outputs": [
    {
     "data": {
      "text/plain": [
       "array([20, 10, 40, 50, 30])"
      ]
     },
     "execution_count": 42,
     "metadata": {},
     "output_type": "execute_result"
    }
   ],
   "source": [
    "arr = np.array([10, 20, 30, 40, 50])\n",
    "idx = [1, 0, 3, 4, 2]\n",
    "arr[idx]"
   ]
  },
  {
   "cell_type": "code",
   "execution_count": null,
   "id": "01490469",
   "metadata": {},
   "outputs": [],
   "source": []
  }
 ],
 "metadata": {
  "kernelspec": {
   "display_name": "Python 3",
   "language": "python",
   "name": "python3"
  },
  "language_info": {
   "codemirror_mode": {
    "name": "ipython",
    "version": 3
   },
   "file_extension": ".py",
   "mimetype": "text/x-python",
   "name": "python",
   "nbconvert_exporter": "python",
   "pygments_lexer": "ipython3",
   "version": "3.8.6"
  }
 },
 "nbformat": 4,
 "nbformat_minor": 5
}
