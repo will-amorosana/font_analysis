{
 "cells": [
  {
   "cell_type": "code",
   "execution_count": 1,
   "id": "d48e3ab6",
   "metadata": {},
   "outputs": [],
   "source": [
    "#Initialize, import, and format\n",
    "import numpy as np\n",
    "import pandas as pd\n",
    "from numpy.random import normal, multivariate_normal\n",
    "\n",
    "import itertools\n",
    "\n",
    "from scipy import linalg\n",
    "import matplotlib.pyplot as plt\n",
    "import matplotlib as mpl\n",
    "\n",
    "from sklearn.decomposition import PCA\n",
    "from scipy import stats\n",
    "\n",
    "\n",
    "DATA_DIRECTORY = \"C:\\\\Users\\\\WDAmo\\\\GitHub\\\\font_analysis\\\\metrics.csv\"\n",
    "PARAM_LABELS = [\"unit\", \"pen\", \"cap\", \"bar\", \"asc\", \"desc\", \"xht\", \"horz\",\n",
    "                \"vert\", \"cont\", \"supr\", \"slnt\", \"aprt\", \"crnr\", \"over\", \"tapr\"]\n",
    "PARAM_NAMES = [\"Unit Width\", \"Pen Width\", \"Cap Height\", \"Bar Height\", \"Ascender Height\", \"Descender Height\", \"X-Height\",\n",
    "              \"Horizontal Increase\", \"Vertical Increase\", \"Contrast\", \"Superness\", \"Slanting\", \"Aperture\", \"Corner\",\n",
    "              \"Overshoot\", \"Taper\"]\n",
    "\n",
    "def extract_data():\n",
    "    df = pd.read_csv(DATA_DIRECTORY)\n",
    "    return df.drop(columns=['Timestamp'])\n",
    "dataset = extract_data()"
   ]
  },
  {
   "cell_type": "code",
   "execution_count": 2,
   "id": "efa672e9",
   "metadata": {},
   "outputs": [],
   "source": [
    "dataset = dataset.to_numpy()\n",
    "# dataset = np.delete(dataset, 0,0)"
   ]
  },
  {
   "cell_type": "code",
   "execution_count": 3,
   "id": "4f375e0b",
   "metadata": {},
   "outputs": [
    {
     "data": {
      "text/plain": [
       "array([7.7826087 , 3.08695652, 8.13043478, 7.43478261, 8.69565217,\n",
       "       3.2173913 , 4.43478261, 8.08695652, 4.69565217, 5.91304348])"
      ]
     },
     "execution_count": 3,
     "metadata": {},
     "output_type": "execute_result"
    }
   ],
   "source": [
    "means = np.mean(dataset, 0)\n",
    "means"
   ]
  },
  {
   "cell_type": "code",
   "execution_count": 4,
   "id": "10a4d66a",
   "metadata": {},
   "outputs": [
    {
     "data": {
      "text/plain": [
       "array([1.69286281, 1.41153766, 1.5688364 , 1.71505069, 1.19545453,\n",
       "       2.28333322, 1.76502462, 1.71725371, 1.33301824, 1.81570548])"
      ]
     },
     "execution_count": 4,
     "metadata": {},
     "output_type": "execute_result"
    }
   ],
   "source": [
    "stds = np.std(dataset, 0)\n",
    "stds"
   ]
  },
  {
   "cell_type": "code",
   "execution_count": 9,
   "id": "ae862330",
   "metadata": {},
   "outputs": [],
   "source": [
    "labels = np.array([\"Georgia\", \"Impact\", \"Arial\", \"Bespoke\", \"Avenir\", \"Papyrus\", \"Bespoke Major\", \"Calibri\", \"Bespoke Minor\", \"Courier New\"])\n",
    "idx = [0, 4, 7, 2, 9, 5, 1, 3, 6, 8]\n",
    "labels2 = labels[idx]\n",
    "means2 = means[idx]\n",
    "stds2 = stds[idx]\n",
    "errs = stds2 / np.sqrt(23)"
   ]
  },
  {
   "cell_type": "code",
   "execution_count": 12,
   "id": "ef1839d8",
   "metadata": {},
   "outputs": [
    {
     "data": {
      "image/png": "[encoded data removed]",
      "text/plain": [
       "<Figure size 432x288 with 1 Axes>"
      ]
     },
     "metadata": {
      "needs_background": "light"
     },
     "output_type": "display_data"
    }
   ],
   "source": [
    "\n",
    "fig, ax = plt.subplots()\n",
    "from matplotlib.lines import Line2D\n",
    "\n",
    "\n",
    "ax.bar(labels2, means2, yerr=errs, color=['green','green','green','green', 'red', 'red', 'red',  \n",
    "                              'darkorange', 'darkorange', 'darkorange'])\n",
    "plt.xticks(rotation = 90)\n",
    "\n",
    "custom_lines = [Line2D([0], [0], color='green', lw=4),\n",
    "                Line2D([0], [0], color='red', lw=4),\n",
    "                Line2D([0], [0], color='darkorange', lw=4)]\n",
    "ax.legend(custom_lines, ['Professional', 'Unprofessional', 'Bespoke Family'], loc='center left', bbox_to_anchor=(1, 0.5))\n",
    "\n",
    "ax.set_ylabel('Readability')\n",
    "ax.set_title('Readability of Resume by Font')\n",
    "\n",
    "plt.tight_layout()\n",
    "\n",
    "plt.savefig('metrics.pdf')"
   ]
  },
  {
   "cell_type": "code",
   "execution_count": 42,
   "id": "0470b721",
   "metadata": {},
   "outputs": [
    {
     "data": {
      "text/plain": [
       "array([20, 10, 40, 50, 30])"
      ]
     },
     "execution_count": 42,
     "metadata": {},
     "output_type": "execute_result"
    }
   ],
   "source": [
    "arr = np.array([10, 20, 30, 40, 50])\n",
    "idx = [1, 0, 3, 4, 2]\n",
    "arr[idx]"
   ]
  },
  {
   "cell_type": "code",
   "execution_count": null,
   "id": "8a37c84d",
   "metadata": {},
   "outputs": [],
   "source": []
  }
 ],
 "metadata": {
  "kernelspec": {
   "display_name": "Python 3",
   "language": "python",
   "name": "python3"
  },
  "language_info": {
   "codemirror_mode": {
    "name": "ipython",
    "version": 3
   },
   "file_extension": ".py",
   "mimetype": "text/x-python",
   "name": "python",
   "nbconvert_exporter": "python",
   "pygments_lexer": "ipython3",
   "version": "3.8.6"
  }
 },
 "nbformat": 4,
 "nbformat_minor": 5
}
