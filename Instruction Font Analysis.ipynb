{
 "cells": [
  {
   "cell_type": "code",
   "execution_count": 2,
   "id": "injured-sydney",
   "metadata": {},
   "outputs": [],
   "source": [
    "#Initialize, import, and format\n",
    "import numpy as np\n",
    "import pandas as pd\n",
    "from numpy.random import normal, multivariate_normal\n",
    "\n",
    "import itertools\n",
    "\n",
    "from scipy import linalg\n",
    "import matplotlib.pyplot as plt\n",
    "import matplotlib as mpl\n",
    "\n",
    "from sklearn.decomposition import PCA\n",
    "from scipy import stats\n",
    "\n",
    "\n",
    "DATA_DIRECTORY = \"C:\\\\Users\\\\WDAmo\\\\GitHub\\\\font_analysis\\\\data\"\n",
    "PARAM_LABELS = [\"unit\", \"pen\", \"cap\", \"bar\", \"asc\", \"desc\", \"xht\", \"horz\",\n",
    "                \"vert\", \"cont\", \"supr\", \"slnt\", \"aprt\", \"crnr\", \"over\", \"tapr\"]\n",
    "\n",
    "def extract_data(lin, chain):\n",
    "    raw_file = pd.read_csv(DATA_DIRECTORY + \"\\\\\" + str(lin) + \"\\\\\" + str(chain) + \".csv\")[\"chosen.values\"]\n",
    "    df = pd.DataFrame([x[1:-1].split(',') for x in raw_file])\n",
    "    return df\n",
    "def extract_all():\n",
    "    out = []\n",
    "    for i in range(4): ##For each lineage,\n",
    "        lin = []\n",
    "        for j in range(4): ##And each chain inside that lineage\n",
    "            lin.append(extract_data(i,j))\n",
    "        out.append(lin)\n",
    "    return out;\n",
    "def split_df(df):\n",
    "    if len(df) % 2 != 0:  # Handling `df` with `odd` number of rows\n",
    "        df = df.iloc[:-1, :]\n",
    "    df1, df2 =  np.array_split(df, 2)\n",
    "    return df1, df2\n",
    "def split_all(dfs): # Returns the second half of each dataframe, cast correctly\n",
    "    out = []\n",
    "    for i in range(4): ##For each lineage,\n",
    "        lin = []\n",
    "        for j in range(4): ##And each chain inside that lineage\n",
    "            upper, lower = split_df(dfs[i][j])\n",
    "            lin.append(lower.astype('float64').to_numpy())\n",
    "        out.append(lin)\n",
    "    return out;\n",
    "def combine_all(chains):\n",
    "    full_chain = np.empty((0,16), 'float64')\n",
    "    for i in range(4):\n",
    "        for j in range(4):\n",
    "            full_chain = np.concatenate((full_chain, chains[i][j]))\n",
    "    return full_chain\n",
    "def combine_by_font(chains):\n",
    "    arial = np.empty((0,16), 'float64')\n",
    "    georgia = np.empty((0,16), 'float64')\n",
    "    for i in range(4):\n",
    "        if(i%2==1):\n",
    "            for j in range(4):\n",
    "                arial = np.concatenate((arial, chains[i][j]))\n",
    "        else:            \n",
    "            for j in range(4):\n",
    "                georgia = np.concatenate((georgia, chains[i][j]))\n",
    "    return arial, georgia\n",
    "def add_noise(dfs, sigma):\n",
    "    out = []\n",
    "    noise = np.random.normal(0, sigma, dfs.shape)  \n",
    "    return (dfs + noise)\n",
    "\n",
    "raw_data = split_all(extract_all())\n",
    "dataset = add_noise(combine_all(raw_data), 1)\n",
    "arial, georgia = combine_by_font(raw_data)"
   ]
  },
  {
   "cell_type": "code",
   "execution_count": 3,
   "id": "surprising-craps",
   "metadata": {},
   "outputs": [
    {
     "data": {
      "text/plain": [
       "48.89821421124712"
      ]
     },
     "execution_count": 3,
     "metadata": {},
     "output_type": "execute_result"
    }
   ],
   "source": [
    "np.mean(georgia)"
   ]
  },
  {
   "cell_type": "code",
   "execution_count": 4,
   "id": "proved-wright",
   "metadata": {},
   "outputs": [
    {
     "name": "stdout",
     "output_type": "stream",
     "text": [
      "unit: 25.456294935720926\n",
      "pen: 26.252355105213358\n",
      "cap: 28.140955683147467\n",
      "bar: 27.896927454053667\n",
      "asc: 27.96014769654072\n",
      "desc: 28.655070538412698\n",
      "xht: 28.253163560292258\n",
      "horz: 28.5452984586918\n",
      "vert: 28.08354206252072\n",
      "cont: 29.543804526925783\n",
      "supr: 27.744872312195955\n",
      "slnt: 24.56409459690098\n",
      "aprt: 28.014989611341196\n",
      "crnr: 27.833915212710462\n",
      "over: 26.55942136326258\n",
      "tapr: 28.574305803202698\n"
     ]
    }
   ],
   "source": [
    "for p in range(16):\n",
    "    subset = georgia[:,p]\n",
    "    print(PARAM_LABELS[p] + \": \" + str(np.std(dataset[:, p])))\n"
   ]
  },
  {
   "cell_type": "code",
   "execution_count": 8,
   "id": "palestinian-franchise",
   "metadata": {},
   "outputs": [
    {
     "name": "stdout",
     "output_type": "stream",
     "text": [
      "[1334.76041048 1149.49512262 1035.18903186  915.31719221  877.28266652\n",
      "  841.46582551  823.08761666  741.42883665  698.22641915  664.89352097\n",
      "  658.44576348  610.20345473  530.71366942  507.17967398  457.29315925\n",
      "  394.84223593]\n"
     ]
    }
   ],
   "source": [
    "# PCA\n",
    "X = dataset\n",
    "pca = PCA(n_components=.99, svd_solver='full')\n",
    "pca.fit(X)\n",
    "print(pca.explained_variance_)"
   ]
  },
  {
   "cell_type": "code",
   "execution_count": 14,
   "id": "portable-plate",
   "metadata": {},
   "outputs": [
    {
     "data": {
      "image/png": "[encoded data removed]",
      "text/plain": [
       "<Figure size 432x288 with 1 Axes>"
      ]
     },
     "metadata": {
      "needs_background": "light"
     },
     "output_type": "display_data"
    }
   ],
   "source": [
    "fig, ax = plt.subplots()\n",
    "x = range(1,17)\n",
    "ax.bar(x, pca.explained_variance_ratio_)\n",
    "ax.set_title(\"PCA: Performance by component\")\n",
    "ax.set_ylabel(\"Explained Variance\")\n",
    "ax.set_xlabel(\"Component\")\n",
    "plt.savefig(\"PCA.pdf\")"
   ]
  },
  {
   "cell_type": "code",
   "execution_count": 9,
   "id": "16320e90",
   "metadata": {},
   "outputs": [],
   "source": [
    "def add_noise(dfs, sigma):\n",
    "    out = []\n",
    "    noise = np.random.normal(0, sigma, dfs.shape)  \n",
    "    return (dfs + noise)\n",
    "arial_noisy = add_noise(arial, 10)\n",
    "georgia_noisy = add_noise(georgia, 10)"
   ]
  },
  {
   "cell_type": "code",
   "execution_count": 10,
   "id": "guided-theology",
   "metadata": {},
   "outputs": [
    {
     "ename": "SyntaxError",
     "evalue": "invalid syntax (<ipython-input-10-b645032b53fd>, line 2)",
     "output_type": "error",
     "traceback": [
      "\u001b[1;36m  File \u001b[1;32m\"<ipython-input-10-b645032b53fd>\"\u001b[1;36m, line \u001b[1;32m2\u001b[0m\n\u001b[1;33m    ts, ps = stats.ttest_ind([:,p],georgia_noisy[:,p], alternative=\"two-sided\")\u001b[0m\n\u001b[1;37m                              ^\u001b[0m\n\u001b[1;31mSyntaxError\u001b[0m\u001b[1;31m:\u001b[0m invalid syntax\n"
     ]
    }
   ],
   "source": [
    "for p in range(16):\n",
    "    ts, ps = stats.ttest_ind([:,p],georgia_noisy[:,p], alternative=\"two-sided\")\n",
    "    print(PARAM_LABELS[p] + \": \" + str(ps))"
   ]
  },
  {
   "cell_type": "code",
   "execution_count": 17,
   "id": "reflected-cooler",
   "metadata": {},
   "outputs": [
    {
     "name": "stdout",
     "output_type": "stream",
     "text": [
      "unit: 7.91374868387609e-13\n",
      "pen: 0.0\n",
      "cap: 0.00011791116316203\n",
      "bar: 1.3874997201746926e-31\n",
      "asc: 9.739080257599795e-31\n",
      "desc: 4.16217913734221e-59\n",
      "xht: 2.11218073081952e-93\n",
      "horz: 4.7279547874979e-116\n",
      "vert: 3.2124700914551393e-113\n",
      "cont: 0.4743683084344775\n",
      "supr: 3.394063132386736e-23\n",
      "slnt: 6.946153540973465e-19\n",
      "aprt: 9.06867769174962e-140\n",
      "crnr: 1.9935233158137574e-35\n",
      "over: 6.081266547798221e-81\n",
      "tapr: 1.8415223037692279e-28\n"
     ]
    }
   ],
   "source": [
    "ts, ps = stats.ttest_ind(arial,georgia, alternative=\"two-sided\")\n",
    "for p in range(16):\n",
    "    print(PARAM_LABELS[p] + \": \" + str(ps[p]))"
   ]
  },
  {
   "cell_type": "code",
   "execution_count": 37,
   "id": "94dabb90",
   "metadata": {},
   "outputs": [],
   "source": [
    "def combine_lin(chains):\n",
    "    out = []\n",
    "    for i in range(4):\n",
    "        full_chain = np.empty((0,16), 'float64')\n",
    "        for j in range(4):\n",
    "            full_chain = np.concatenate((full_chain, chains[i][j]))\n",
    "        out.append(full_chain)\n",
    "    return out\n",
    "lins = combine_lin(raw_data)"
   ]
  },
  {
   "cell_type": "code",
   "execution_count": 41,
   "id": "ac55ea25",
   "metadata": {},
   "outputs": [
    {
     "name": "stdout",
     "output_type": "stream",
     "text": [
      "unit: 4.304546408955523e-22\n",
      "pen: 1.1573891133248189e-10\n",
      "cap: 1.0920685272966413e-12\n",
      "bar: 1.3007579481789065e-07\n",
      "asc: 4.58139612214972e-111\n",
      "desc: 0.00034643545121543646\n",
      "xht: 4.800029839293324e-06\n",
      "horz: 3.166590084381656e-154\n",
      "vert: 9.69878493421719e-13\n",
      "cont: 4.548770668018369e-116\n",
      "supr: 2.5055125685523674e-21\n",
      "slnt: 9.909879180793205e-11\n",
      "aprt: 1.2765926529630187e-12\n",
      "crnr: 2.2816433263747953e-06\n",
      "over: 0.23160991627412425\n",
      "tapr: 2.5754998096976693e-228\n"
     ]
    }
   ],
   "source": [
    "ts, ps = stats.ttest_ind(raw_data[0][2],raw_data[0][0], alternative=\"two-sided\")\n",
    "for p in range(16):\n",
    "    print(PARAM_LABELS[p] + \": \" + str(ps[p]))"
   ]
  }
 ],
 "metadata": {
  "kernelspec": {
   "display_name": "Python 3",
   "language": "python",
   "name": "python3"
  },
  "language_info": {
   "codemirror_mode": {
    "name": "ipython",
    "version": 3
   },
   "file_extension": ".py",
   "mimetype": "text/x-python",
   "name": "python",
   "nbconvert_exporter": "python",
   "pygments_lexer": "ipython3",
   "version": "3.8.6"
  }
 },
 "nbformat": 4,
 "nbformat_minor": 5
}
