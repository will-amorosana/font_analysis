{
 "cells": [
  {
   "cell_type": "code",
   "execution_count": 3,
   "id": "c2dfae89",
   "metadata": {},
   "outputs": [],
   "source": [
    "#Initialize, import, and format\n",
    "import numpy as np\n",
    "import pandas as pd\n",
    "from numpy.random import normal, multivariate_normal\n",
    "\n",
    "import itertools\n",
    "\n",
    "from scipy import linalg\n",
    "import matplotlib.pyplot as plt\n",
    "import matplotlib as mpl\n",
    "\n",
    "from sklearn.decomposition import PCA\n",
    "from scipy import stats\n",
    "\n",
    "\n",
    "DATA_DIRECTORY = \"C:\\\\Users\\\\WDAmo\\\\GitHub\\\\font_analysis\\\\data\"\n",
    "PARAM_LABELS = [\"unit\", \"pen\", \"cap\", \"bar\", \"asc\", \"desc\", \"xht\", \"horz\",\n",
    "                \"vert\", \"cont\", \"supr\", \"slnt\", \"aprt\", \"crnr\", \"over\", \"tapr\"]\n",
    "PARAM_NAMES = [\"Unit Width\", \"Pen Width\", \"Cap Height\", \"Bar Height\", \"Ascender Height\", \"Descender Height\", \"X-Height\",\n",
    "              \"Horizontal Increase\", \"Vertical Increase\", \"Contrast\", \"Superness\", \"Slanting\", \"Aperture\", \"Corner\",\n",
    "              \"Overshoot\", \"Taper\"]\n",
    "\n",
    "def extract_data(lin, chain):\n",
    "    raw_file = pd.read_csv(DATA_DIRECTORY + \"\\\\\" + str(lin) + \"\\\\\" + str(chain) + \".csv\")[\"chosen.values\"]\n",
    "    df = pd.DataFrame([x[1:-1].split(',') for x in raw_file])\n",
    "    return df\n",
    "def extract_all():\n",
    "    out = []\n",
    "    for i in range(4): ##For each lineage,\n",
    "        lin = []\n",
    "        for j in range(4): ##And each chain inside that lineage\n",
    "            lin.append(extract_data(i,j))\n",
    "        out.append(lin)\n",
    "    return out;\n",
    "def split_df(df):\n",
    "    if len(df) % 2 != 0:  # Handling `df` with `odd` number of rows\n",
    "        df = df.iloc[:-1, :]\n",
    "    df1, df2 =  np.array_split(df, 2)\n",
    "    return df1, df2\n",
    "def split_all(dfs): # Returns the second half of each dataframe, cast correctly\n",
    "    out = []\n",
    "    for i in range(4): ##For each lineage,\n",
    "        lin = []\n",
    "        for j in range(4): ##And each chain inside that lineage\n",
    "            upper, lower = split_df(dfs[i][j])\n",
    "            lin.append(lower.astype('float64').to_numpy())\n",
    "        out.append(lin)\n",
    "    return out;\n",
    "def combine_all(chains):\n",
    "    full_chain = np.empty((0,16), 'float64')\n",
    "    for i in range(4):\n",
    "        for j in range(4):\n",
    "            full_chain = np.concatenate((full_chain, chains[i][j]))\n",
    "    return full_chain\n",
    "def combine_by_font(chains):\n",
    "    arial = np.empty((0,16), 'float64')\n",
    "    georgia = np.empty((0,16), 'float64')\n",
    "    for i in range(4):\n",
    "        if(i%2==1):\n",
    "            for j in range(4):\n",
    "                arial = np.concatenate((arial, chains[i][j]))\n",
    "        else:            \n",
    "            for j in range(4):\n",
    "                georgia = np.concatenate((georgia, chains[i][j]))\n",
    "    return arial, georgia\n",
    "\n",
    "raw_data = split_all(extract_all())\n",
    "dataset = combine_all(raw_data)\n",
    "arial, georgia = combine_by_font(raw_data)"
   ]
  },
  {
   "cell_type": "code",
   "execution_count": 5,
   "id": "001391b0",
   "metadata": {},
   "outputs": [],
   "source": [
    "for p in range(16):    \n",
    "    plt.hist(dataset[:,p], bins=100)\n",
    "    plt.title(PARAM_NAMES[p])\n",
    "    plt.savefig(\"boundary histograms/\"+PARAM_NAMES[p]+\"_hist.pdf\")\n",
    "    plt.close()"
   ]
  },
  {
   "cell_type": "code",
   "execution_count": 6,
   "id": "a6a3310a",
   "metadata": {},
   "outputs": [],
   "source": [
    "def auto_count():\n",
    "    autos = 0\n",
    "    humans = 0\n",
    "    for i in range(4):\n",
    "        for j in range(4):\n",
    "                df = pd.read_csv(DATA_DIRECTORY + \"\\\\\" + str(i) + \"\\\\\" + str(j) + \".csv\")\n",
    "                if len(df) % 2 != 0:  # Handling `df` with `odd` number of rows\n",
    "                    df = df.iloc[:-1, :]\n",
    "                df1, df2 =  np.array_split(df, 2)\n",
    "                raw_file = df2[\"auto\"]\n",
    "                counts = raw_file.value_counts()\n",
    "                autos += counts.loc[True]\n",
    "                humans += counts.loc[False]\n",
    "    return autos, humans"
   ]
  },
  {
   "cell_type": "code",
   "execution_count": 7,
   "id": "03b48406",
   "metadata": {},
   "outputs": [
    {
     "name": "stdout",
     "output_type": "stream",
     "text": [
      "24651\n",
      "10259\n"
     ]
    }
   ],
   "source": [
    "auto_rejected, human_choices = auto_count()\n",
    "print(auto_rejected)\n",
    "print(human_choices)"
   ]
  },
  {
   "cell_type": "code",
   "execution_count": 20,
   "id": "51afd920",
   "metadata": {},
   "outputs": [
    {
     "name": "stdout",
     "output_type": "stream",
     "text": [
      "0.11331460996159798\n"
     ]
    }
   ],
   "source": [
    "acc = 0\n",
    "rej = 0\n",
    "for i in range(4):\n",
    "    for j in range(4):\n",
    "        df = pd.read_csv(DATA_DIRECTORY + \"\\\\\" + str(i) + \"\\\\\" + str(j) + \".csv\")\n",
    "        if len(df) % 2 != 0:  # Handling `df` with `odd` number of rows\n",
    "            df = df.iloc[:-1, :]\n",
    "        df1, df2 =  np.array_split(df, 2)\n",
    "        arr = df2.to_numpy()\n",
    "        for k in range(int(arr.size/4)):\n",
    "            if k == 0:\n",
    "                continue\n",
    "            elif arr[k][2]==arr[k-1][2]:\n",
    "                rej+=1\n",
    "            else:\n",
    "                acc+=1\n",
    "print(acc/(acc + rej))\n",
    "\n",
    "        "
   ]
  },
  {
   "cell_type": "code",
   "execution_count": 10,
   "id": "8d4ae514",
   "metadata": {},
   "outputs": [
    {
     "data": {
      "text/plain": [
       "(2547, 4)"
      ]
     },
     "execution_count": 10,
     "metadata": {},
     "output_type": "execute_result"
    }
   ],
   "source": []
  },
  {
   "cell_type": "code",
   "execution_count": null,
   "id": "83d01e48",
   "metadata": {},
   "outputs": [],
   "source": []
  }
 ],
 "metadata": {
  "kernelspec": {
   "display_name": "Python 3",
   "language": "python",
   "name": "python3"
  },
  "language_info": {
   "codemirror_mode": {
    "name": "ipython",
    "version": 3
   },
   "file_extension": ".py",
   "mimetype": "text/x-python",
   "name": "python",
   "nbconvert_exporter": "python",
   "pygments_lexer": "ipython3",
   "version": "3.8.6"
  }
 },
 "nbformat": 4,
 "nbformat_minor": 5
}
