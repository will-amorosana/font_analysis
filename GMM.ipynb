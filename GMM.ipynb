{
 "cells": [
  {
   "cell_type": "code",
   "execution_count": 1,
   "id": "plastic-characteristic",
   "metadata": {},
   "outputs": [],
   "source": [
    "import numpy as np\n",
    "import pandas as pd\n",
    "from numpy.random import normal, multivariate_normal\n",
    "\n",
    "import itertools\n",
    "\n",
    "from scipy import linalg\n",
    "import matplotlib.pyplot as plt\n",
    "import matplotlib as mpl\n",
    "\n",
    "from sklearn import mixture"
   ]
  },
  {
   "cell_type": "code",
   "execution_count": 2,
   "id": "favorite-fault",
   "metadata": {},
   "outputs": [],
   "source": [
    "DATA_DIRECTORY = \"C:\\\\Users\\\\WDAmo\\\\GitHub\\\\font_analysis\\\\data\"\n",
    "PARAM_LABELS = [\"unit\", \"pen\", \"cap\", \"bar\", \"asc\", \"desc\", \"xht\", \"horz\",\n",
    "                \"vert\", \"cont\", \"supr\", \"slnt\", \"aprt\", \"crnr\", \"over\", \"tapr\"]"
   ]
  },
  {
   "cell_type": "code",
   "execution_count": 3,
   "id": "appointed-shooting",
   "metadata": {},
   "outputs": [],
   "source": [
    "def extract_data(lin, chain):\n",
    "    raw_file = pd.read_csv(DATA_DIRECTORY + \"\\\\\" + str(lin) + \"\\\\\" + str(chain) + \".csv\")[\"chosen.values\"]\n",
    "    df = pd.DataFrame([x[1:-1].split(',') for x in raw_file])\n",
    "    return df\n",
    "def extract_all():\n",
    "    out = []\n",
    "    for i in range(4): ##For each lineage,\n",
    "        lin = []\n",
    "        for j in range(4): ##And each chain inside that lineage\n",
    "            lin.append(extract_data(i,j))\n",
    "        out.append(lin)\n",
    "    return out;\n",
    "def split_df(df):\n",
    "    if len(df) % 2 != 0:  # Handling `df` with `odd` number of rows\n",
    "        df = df.iloc[:-1, :]\n",
    "    df1, df2 =  np.array_split(df, 2)\n",
    "    return df1, df2\n",
    "def split_all(dfs): # Returns the second half of each dataframe, cast correctly\n",
    "    out = []\n",
    "    for i in range(4): ##For each lineage,\n",
    "        lin = []\n",
    "        for j in range(4): ##And each chain inside that lineage\n",
    "            upper, lower = split_df(dfs[i][j])\n",
    "            lin.append(lower.astype('float64').to_numpy())\n",
    "        out.append(lin)\n",
    "    return out;\n",
    "def combine_all(chains):\n",
    "    full_chain = np.empty((0,16), 'float64')\n",
    "    for i in range(4):\n",
    "        for j in range(4):\n",
    "            full_chain = np.concatenate((full_chain, chains[i][j]))\n",
    "    return full_chain\n",
    "def combine_by_font(chains):\n",
    "    arial = np.empty((0,16), 'float64')\n",
    "    georgia = np.empty((0,16), 'float64')\n",
    "    for i in range(4):\n",
    "        if(i%2==1):\n",
    "            for j in range(4):\n",
    "                arial = np.concatenate((arial, chains[i][j]))\n",
    "        else:            \n",
    "            for j in range(4):\n",
    "                georgia = np.concatenate((georgia, chains[i][j]))\n",
    "    return arial, georgia\n",
    "def add_noise(dfs, sigma):\n",
    "    out = []\n",
    "    noise = np.random.normal(0, sigma, dfs.shape)  \n",
    "    return (dfs + noise)"
   ]
  },
  {
   "cell_type": "code",
   "execution_count": 4,
   "id": "important-server",
   "metadata": {
    "scrolled": true
   },
   "outputs": [],
   "source": [
    "raw_data = split_all(extract_all())\n",
    "dataset = add_noise(combine_all(raw_data),1)"
   ]
  },
  {
   "cell_type": "code",
   "execution_count": 5,
   "id": "atmospheric-floating",
   "metadata": {},
   "outputs": [
    {
     "data": {
      "text/plain": [
       "(34910, 16)"
      ]
     },
     "execution_count": 5,
     "metadata": {},
     "output_type": "execute_result"
    }
   ],
   "source": [
    "dataset.shape"
   ]
  },
  {
   "cell_type": "code",
   "execution_count": 6,
   "id": "latin-bachelor",
   "metadata": {},
   "outputs": [
    {
     "ename": "NameError",
     "evalue": "name 'dfs_split' is not defined",
     "output_type": "error",
     "traceback": [
      "\u001b[1;31m---------------------------------------------------------------------------\u001b[0m",
      "\u001b[1;31mNameError\u001b[0m                                 Traceback (most recent call last)",
      "\u001b[1;32m<ipython-input-6-4f7e13332d7a>\u001b[0m in \u001b[0;36m<module>\u001b[1;34m\u001b[0m\n\u001b[0;32m      3\u001b[0m     \u001b[0msum\u001b[0m \u001b[1;33m=\u001b[0m \u001b[1;36m0\u001b[0m\u001b[1;33m\u001b[0m\u001b[1;33m\u001b[0m\u001b[0m\n\u001b[0;32m      4\u001b[0m     \u001b[1;32mfor\u001b[0m \u001b[0mj\u001b[0m \u001b[1;32min\u001b[0m \u001b[0mrange\u001b[0m\u001b[1;33m(\u001b[0m\u001b[1;36m4\u001b[0m\u001b[1;33m)\u001b[0m\u001b[1;33m:\u001b[0m\u001b[1;33m\u001b[0m\u001b[1;33m\u001b[0m\u001b[0m\n\u001b[1;32m----> 5\u001b[1;33m         \u001b[0ml\u001b[0m\u001b[1;33m,\u001b[0m \u001b[0mp\u001b[0m \u001b[1;33m=\u001b[0m \u001b[0mdfs_split\u001b[0m\u001b[1;33m[\u001b[0m\u001b[0mi\u001b[0m\u001b[1;33m]\u001b[0m\u001b[1;33m[\u001b[0m\u001b[0mj\u001b[0m\u001b[1;33m]\u001b[0m\u001b[1;33m.\u001b[0m\u001b[0mshape\u001b[0m\u001b[1;33m\u001b[0m\u001b[1;33m\u001b[0m\u001b[0m\n\u001b[0m\u001b[0;32m      6\u001b[0m         \u001b[0msum\u001b[0m\u001b[1;33m+=\u001b[0m \u001b[0ml\u001b[0m\u001b[1;33m\u001b[0m\u001b[1;33m\u001b[0m\u001b[0m\n\u001b[0;32m      7\u001b[0m     \u001b[0mprint\u001b[0m\u001b[1;33m(\u001b[0m\u001b[0mstr\u001b[0m\u001b[1;33m(\u001b[0m\u001b[0msum\u001b[0m\u001b[1;33m/\u001b[0m\u001b[1;36m4\u001b[0m\u001b[1;33m)\u001b[0m\u001b[1;33m)\u001b[0m\u001b[1;33m\u001b[0m\u001b[1;33m\u001b[0m\u001b[0m\n",
      "\u001b[1;31mNameError\u001b[0m: name 'dfs_split' is not defined"
     ]
    }
   ],
   "source": [
    "# Checking average length of each split lineage\n",
    "for i in range(4):\n",
    "    sum = 0\n",
    "    for j in range(4):\n",
    "        l, p = dfs_split[i][j].shape\n",
    "        sum+= l\n",
    "    print(str(sum/4))\n",
    "            "
   ]
  },
  {
   "cell_type": "code",
   "execution_count": null,
   "id": "consistent-halloween",
   "metadata": {},
   "outputs": [],
   "source": [
    "\n",
    "def add_noise_split(dfs, sigma):\n",
    "    out = []\n",
    "    for i in range(4):\n",
    "        lin = []\n",
    "        for j in range(4):\n",
    "            lin.append(add_noise(dfs[i][j], sigma))\n",
    "        out.append(lin)\n",
    "    return out\n",
    "            \n",
    "noisy_1 = add_noise(dataset, 1)\n",
    "noisy_10 = add_noise(dataset, 10)\n",
    "noisy_5 = add_noise(dataset, 5)\n",
    "noisy_1_split = add_noise_split(raw_data, 1)\n",
    "noisy_5_split = add_noise_split(raw_data, 5)\n",
    "noisy_10_split = add_noise_split(raw_data, 10)\n"
   ]
  },
  {
   "cell_type": "code",
   "execution_count": 12,
   "id": "identical-vatican",
   "metadata": {},
   "outputs": [
    {
     "name": "stdout",
     "output_type": "stream",
     "text": [
      "1: 5294116.137495516\n",
      "2: 5286583.807191101\n",
      "3: 5278350.360470182\n",
      "4: 5271454.564613434\n",
      "5: 5265815.226833031\n",
      "6: 5258539.536125149\n",
      "7: 5255985.515420604\n",
      "8: 5251356.567920986\n",
      "9: 5247602.112381491\n",
      "10: 5241640.652576938\n",
      "11: 5242729.268282883\n",
      "12: 5230514.9882215\n",
      "13: 5220637.324580504\n",
      "14: 5220112.267845931\n",
      "15: 5209330.30686948\n",
      "16: 5207843.314213449\n",
      "17: 5205667.043168138\n",
      "18: 5204067.271378351\n",
      "19: 5193486.881926966\n",
      "20: 5194016.725634426\n"
     ]
    }
   ],
   "source": [
    "X = dataset\n",
    "n_components_range = np.arange(1,21)\n",
    "bics = []\n",
    "for n_components in n_components_range:\n",
    "    # Fit a Gaussian mixture with EM\n",
    "    gmm = mixture.GaussianMixture(n_components=n_components, n_init = 5,\n",
    "                                  covariance_type='spherical')\n",
    "    gmm.fit(X)\n",
    "    bics.append(gmm.bic(X))\n",
    "    print(str(n_components) + \": \"+ str(gmm.bic(X)))\n",
    "\n"
   ]
  },
  {
   "cell_type": "code",
   "execution_count": 13,
   "id": "italic-impact",
   "metadata": {},
   "outputs": [
    {
     "data": {
      "text/plain": [
       "[<matplotlib.lines.Line2D at 0x17ca30cdc10>]"
      ]
     },
     "execution_count": 13,
     "metadata": {},
     "output_type": "execute_result"
    },
    {
     "data": {
      "image/png": "[encoded data removed]",
      "text/plain": [
       "<Figure size 432x288 with 1 Axes>"
      ]
     },
     "metadata": {
      "needs_background": "light"
     },
     "output_type": "display_data"
    }
   ],
   "source": [
    "plt.plot(bics)"
   ]
  },
  {
   "cell_type": "code",
   "execution_count": 15,
   "id": "defined-philippines",
   "metadata": {
    "scrolled": true
   },
   "outputs": [
    {
     "data": {
      "text/html": [
       "<div>\n",
       "<style scoped>\n",
       "    .dataframe tbody tr th:only-of-type {\n",
       "        vertical-align: middle;\n",
       "    }\n",
       "\n",
       "    .dataframe tbody tr th {\n",
       "        vertical-align: top;\n",
       "    }\n",
       "\n",
       "    .dataframe thead th {\n",
       "        text-align: right;\n",
       "    }\n",
       "</style>\n",
       "<table border=\"1\" class=\"dataframe\">\n",
       "  <thead>\n",
       "    <tr style=\"text-align: right;\">\n",
       "      <th></th>\n",
       "      <th>weight</th>\n",
       "      <th>mean</th>\n",
       "    </tr>\n",
       "  </thead>\n",
       "  <tbody>\n",
       "    <tr>\n",
       "      <th>10</th>\n",
       "      <td>0.263007</td>\n",
       "      <td>[51.899145227773964, 59.204272681402124, 47.49...</td>\n",
       "    </tr>\n",
       "    <tr>\n",
       "      <th>7</th>\n",
       "      <td>0.093910</td>\n",
       "      <td>[59.518855951701916, 47.56208637713423, 48.133...</td>\n",
       "    </tr>\n",
       "    <tr>\n",
       "      <th>2</th>\n",
       "      <td>0.084666</td>\n",
       "      <td>[62.90029960767179, 65.74747149814384, 68.4734...</td>\n",
       "    </tr>\n",
       "    <tr>\n",
       "      <th>9</th>\n",
       "      <td>0.082965</td>\n",
       "      <td>[35.79502105798364, 76.16006198383985, 34.6478...</td>\n",
       "    </tr>\n",
       "    <tr>\n",
       "      <th>4</th>\n",
       "      <td>0.079147</td>\n",
       "      <td>[39.902318459627224, 74.77350892713498, 69.361...</td>\n",
       "    </tr>\n",
       "    <tr>\n",
       "      <th>5</th>\n",
       "      <td>0.076731</td>\n",
       "      <td>[31.98158688202226, 47.90854945665272, 47.1390...</td>\n",
       "    </tr>\n",
       "    <tr>\n",
       "      <th>0</th>\n",
       "      <td>0.067627</td>\n",
       "      <td>[26.618082415152376, 35.58410504184095, 27.996...</td>\n",
       "    </tr>\n",
       "    <tr>\n",
       "      <th>1</th>\n",
       "      <td>0.056688</td>\n",
       "      <td>[47.092284580558605, 54.14729111588379, 67.149...</td>\n",
       "    </tr>\n",
       "    <tr>\n",
       "      <th>8</th>\n",
       "      <td>0.053575</td>\n",
       "      <td>[24.393896182845666, 29.98794751869404, 35.357...</td>\n",
       "    </tr>\n",
       "    <tr>\n",
       "      <th>6</th>\n",
       "      <td>0.053030</td>\n",
       "      <td>[42.82279351386059, 83.63775819484736, 25.6777...</td>\n",
       "    </tr>\n",
       "    <tr>\n",
       "      <th>11</th>\n",
       "      <td>0.051309</td>\n",
       "      <td>[73.86750079349218, 87.85390564358815, 64.4496...</td>\n",
       "    </tr>\n",
       "    <tr>\n",
       "      <th>3</th>\n",
       "      <td>0.037345</td>\n",
       "      <td>[29.114030339443673, 40.82870365510755, 43.462...</td>\n",
       "    </tr>\n",
       "  </tbody>\n",
       "</table>\n",
       "</div>"
      ],
      "text/plain": [
       "      weight                                               mean\n",
       "10  0.263007  [51.899145227773964, 59.204272681402124, 47.49...\n",
       "7   0.093910  [59.518855951701916, 47.56208637713423, 48.133...\n",
       "2   0.084666  [62.90029960767179, 65.74747149814384, 68.4734...\n",
       "9   0.082965  [35.79502105798364, 76.16006198383985, 34.6478...\n",
       "4   0.079147  [39.902318459627224, 74.77350892713498, 69.361...\n",
       "5   0.076731  [31.98158688202226, 47.90854945665272, 47.1390...\n",
       "0   0.067627  [26.618082415152376, 35.58410504184095, 27.996...\n",
       "1   0.056688  [47.092284580558605, 54.14729111588379, 67.149...\n",
       "8   0.053575  [24.393896182845666, 29.98794751869404, 35.357...\n",
       "6   0.053030  [42.82279351386059, 83.63775819484736, 25.6777...\n",
       "11  0.051309  [73.86750079349218, 87.85390564358815, 64.4496...\n",
       "3   0.037345  [29.114030339443673, 40.82870365510755, 43.462..."
      ]
     },
     "execution_count": 15,
     "metadata": {},
     "output_type": "execute_result"
    }
   ],
   "source": [
    "#Running the GMM on the whole dataset\n",
    "results = []\n",
    "n_comps = 12\n",
    "gmm = mixture.GaussianMixture(n_components=n_comps,\n",
    "                              covariance_type='full', max_iter=5000, n_init=5)\n",
    "gmm.fit(dataset)\n",
    "weights = gmm.weights_\n",
    "means = gmm.means_\n",
    "chainframe = pd.DataFrame({'weight': weights, 'mean': list(means)}, columns=['weight', 'mean']).sort_values('weight', ascending=False)\n",
    "\n",
    "chainframe\n",
    "            \n",
    "            "
   ]
  },
  {
   "cell_type": "code",
   "execution_count": 16,
   "id": "simplified-glance",
   "metadata": {},
   "outputs": [],
   "source": [
    "chainframe = chainframe.to_numpy()"
   ]
  },
  {
   "cell_type": "code",
   "execution_count": 18,
   "id": "precise-victor",
   "metadata": {},
   "outputs": [
    {
     "data": {
      "text/plain": [
       "[array([52., 59., 47., 44., 55., 58., 51., 51., 40., 35., 45., 52., 37.,\n",
       "        39., 40., 53.]),\n",
       " array([60., 48., 48., 50., 54., 62., 79., 47., 59., 70., 33., 53., 54.,\n",
       "        62., 59., 52.]),\n",
       " array([63., 66., 68., 59., 56., 43., 43., 75., 58., 28., 63., 75., 70.,\n",
       "        37., 63., 33.]),\n",
       " array([36., 76., 35., 42., 28., 51., 39., 45., 31., 48., 41., 50., 73.,\n",
       "        67., 32., 66.]),\n",
       " array([40., 75., 69., 31., 37., 46., 45., 25., 67., 47., 42., 57., 30.,\n",
       "        39., 58., 35.]),\n",
       " array([32., 48., 47., 68., 62., 19., 49., 35., 55., 59., 31., 50., 45.,\n",
       "        61., 45., 65.])]"
      ]
     },
     "execution_count": 18,
     "metadata": {},
     "output_type": "execute_result"
    }
   ],
   "source": [
    "top_6_means= chainframe[:6,1]\n",
    "top_6_weights = chainframe[:6,0]\n",
    "rounded_6 = []\n",
    "for i in top_6_means:\n",
    "    rounded_6.append(np.round(i))\n",
    "rounded_6"
   ]
  },
  {
   "cell_type": "code",
   "execution_count": 19,
   "id": "nutritional-sally",
   "metadata": {},
   "outputs": [
    {
     "data": {
      "text/plain": [
       "array([0.2630069515352187, 0.09391034852447379, 0.08466609000794229,\n",
       "       0.0829649133618369, 0.07914677787906303, 0.07673102520803197],\n",
       "      dtype=object)"
      ]
     },
     "execution_count": 19,
     "metadata": {},
     "output_type": "execute_result"
    }
   ],
   "source": [
    "top_6_weights"
   ]
  },
  {
   "cell_type": "code",
   "execution_count": 18,
   "id": "guilty-triumph",
   "metadata": {},
   "outputs": [
    {
     "data": {
      "text/plain": [
       "[52.0,\n",
       " 48.0,\n",
       " 47.0,\n",
       " 55.0,\n",
       " 53.0,\n",
       " 50.0,\n",
       " 59.0,\n",
       " 45.0,\n",
       " 51.0,\n",
       " 63.0,\n",
       " 42.0,\n",
       " 55.0,\n",
       " 41.0,\n",
       " 55.0,\n",
       " 51.0,\n",
       " 49.0]"
      ]
     },
     "execution_count": 18,
     "metadata": {},
     "output_type": "execute_result"
    }
   ],
   "source": [
    "list(rounded_6[0])"
   ]
  },
  {
   "cell_type": "code",
   "execution_count": 20,
   "id": "dramatic-marks",
   "metadata": {},
   "outputs": [
    {
     "name": "stdout",
     "output_type": "stream",
     "text": [
      "localhost:1999/font/gmm1/52-59-47-44-55-58-51-51-40-35-45-52-37-39-40-53/\n",
      "localhost:1999/font/gmm2/60-48-48-50-54-62-79-47-59-70-33-53-54-62-59-52/\n",
      "localhost:1999/font/gmm3/63-66-68-59-56-43-43-75-58-28-63-75-70-37-63-33/\n",
      "localhost:1999/font/gmm4/36-76-35-42-28-51-39-45-31-48-41-50-73-67-32-66/\n",
      "localhost:1999/font/gmm5/40-75-69-31-37-46-45-25-67-47-42-57-30-39-58-35/\n",
      "localhost:1999/font/gmm6/32-48-47-68-62-19-49-35-55-59-31-50-45-61-45-65/\n"
     ]
    }
   ],
   "source": [
    "def load_font(arr, filename):#List of values -> URL\n",
    "    rounded = np.around(arr)\n",
    "    out = \"localhost:1999/font/\"+filename+\"/\"\n",
    "    for i in arr:\n",
    "        out+= str(i)[:2] + \"-\"\n",
    "    return out[:-1]+\"/\"\n",
    "\n",
    "for i in range(1,7):\n",
    "    print(load_font(rounded_6[i-1], \"gmm\"+str(i)))\n",
    "    \n"
   ]
  },
  {
   "cell_type": "code",
   "execution_count": null,
   "id": "9e9161e9",
   "metadata": {},
   "outputs": [],
   "source": []
  }
 ],
 "metadata": {
  "kernelspec": {
   "display_name": "Python 3",
   "language": "python",
   "name": "python3"
  },
  "language_info": {
   "codemirror_mode": {
    "name": "ipython",
    "version": 3
   },
   "file_extension": ".py",
   "mimetype": "text/x-python",
   "name": "python",
   "nbconvert_exporter": "python",
   "pygments_lexer": "ipython3",
   "version": "3.8.6"
  }
 },
 "nbformat": 4,
 "nbformat_minor": 5
}
